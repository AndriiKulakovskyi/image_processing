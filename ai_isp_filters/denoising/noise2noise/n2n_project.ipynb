{
  "nbformat": 4,
  "nbformat_minor": 0,
  "metadata": {
    "kernelspec": {
      "display_name": "Python 3",
      "language": "python",
      "name": "python3"
    },
    "language_info": {
      "codemirror_mode": {
        "name": "ipython",
        "version": 3
      },
      "file_extension": ".py",
      "mimetype": "text/x-python",
      "name": "python",
      "nbconvert_exporter": "python",
      "pygments_lexer": "ipython3",
      "version": "3.8.5"
    },
    "colab": {
      "name": "n2n_project.ipynb",
      "provenance": []
    }
  },
  "cells": [
    {
      "cell_type": "code",
      "metadata": {
        "colab": {
          "base_uri": "https://localhost:8080/"
        },
        "id": "mOVw9urhyXdD",
        "outputId": "9fa1a86e-65ec-4739-ab41-0fb2809b2bbf"
      },
      "source": [
        "!pip install torch torchvision"
      ],
      "execution_count": 1,
      "outputs": [
        {
          "output_type": "stream",
          "text": [
            "Requirement already satisfied: torch in /usr/local/lib/python3.7/dist-packages (1.8.1+cu101)\n",
            "Requirement already satisfied: torchvision in /usr/local/lib/python3.7/dist-packages (0.9.1+cu101)\n",
            "Requirement already satisfied: numpy in /usr/local/lib/python3.7/dist-packages (from torch) (1.19.5)\n",
            "Requirement already satisfied: typing-extensions in /usr/local/lib/python3.7/dist-packages (from torch) (3.7.4.3)\n",
            "Requirement already satisfied: pillow>=4.1.1 in /usr/local/lib/python3.7/dist-packages (from torchvision) (7.1.2)\n"
          ],
          "name": "stdout"
        }
      ]
    },
    {
      "cell_type": "code",
      "metadata": {
        "id": "1J0qw3KQz0JS"
      },
      "source": [
        "import os, imageio, numpy as np\n",
        "import matplotlib.pyplot as plt\n",
        "from google.colab import drive\n",
        "%matplotlib inline"
      ],
      "execution_count": 4,
      "outputs": []
    },
    {
      "cell_type": "code",
      "metadata": {
        "id": "GSgIQYQM0Ey4"
      },
      "source": [
        "import torch\n",
        "import torch.nn as nn\n",
        "import torch.nn.functional as F\n",
        "import torchvision.transforms as transforms\n",
        "import torchvision.transforms.functional as tvF\n",
        "from torch.utils.data import Dataset, DataLoader"
      ],
      "execution_count": 35,
      "outputs": []
    },
    {
      "cell_type": "code",
      "metadata": {
        "colab": {
          "base_uri": "https://localhost:8080/"
        },
        "id": "iz47dwl64f-X",
        "outputId": "9cea1970-a4ae-4171-ad05-0be021650b69"
      },
      "source": [
        "# Mount GDrive with dataset\n",
        "drive.mount(\"/content/drive\", force_remount=True)\n",
        "\n",
        "# Path to BSDS500 image dataset\n",
        "root_train = '/content/drive/My Drive/Colab Notebooks/Data/BSDS500/train/'\n",
        "root_valid = '/content/drive/My Drive/Colab Notebooks/Data/BSDS500/val/'\n",
        "\n",
        "# Explore images\n",
        "print('Train images: ', len(os.listdir(root_train)))\n",
        "print('Valid images: ', len(os.listdir(root_valid)))"
      ],
      "execution_count": 36,
      "outputs": [
        {
          "output_type": "stream",
          "text": [
            "Mounted at /content/drive\n",
            "Train images:  400\n",
            "Valid images:  100\n"
          ],
          "name": "stdout"
        }
      ]
    },
    {
      "cell_type": "code",
      "metadata": {
        "id": "kwh93A8aOBjt"
      },
      "source": [
        "class BSDDataset(Dataset):\n",
        "    def __init__(self,\n",
        "                 root_dir,\n",
        "                 crop_size=128,\n",
        "                 train_noise_model=('gaussian', 50),\n",
        "                 img_bitdepth=8):\n",
        "        \"\"\"\n",
        "        root_dir: Path of image directory\n",
        "        crop_size: Crop image to given size\n",
        "        clean_targ: Use clean targets for training\n",
        "        \"\"\"\n",
        "        self.root_dir = root_dir\n",
        "        self.crop_size = crop_size\n",
        "        self.img_bitdepth = img_bitdepth\n",
        "        self.noise = train_noise_model[0]\n",
        "        self.noise_param = train_noise_model[1] / (2**self.img_bitdepth - 1)\n",
        "        self.imgs = os.listdir(root_dir)\n",
        "      \n",
        "    def __len__(self):\n",
        "        return len(self.imgs)\n",
        "    \n",
        "    def _random_crop_to_size(self, img):\n",
        "        \n",
        "        h, w, c = img.shape\n",
        "        assert w >= self.crop_size and h >= self.crop_size, 'Cannot be croppped. Invalid size'\n",
        "\n",
        "        i = np.random.randint(0, h - self.crop_size + 2)\n",
        "        j = np.random.randint(0, w - self.crop_size + 2)\n",
        "\n",
        "        cropped_img = img[i:i+self.crop_size, j:j+self.crop_size, :]\n",
        "        return cropped_img\n",
        "    \n",
        "    def _add_gaussian_noise(self, image):\n",
        "        \"\"\"\n",
        "        Added only gaussian noise\n",
        "        \"\"\"\n",
        "        h, w, c = image.shape\n",
        "        \n",
        "        std = np.random.uniform(0, self.noise_param)\n",
        "        _n = np.random.normal(0, std, (h, w, c))\n",
        "        noisy_image = image + _n\n",
        "        \n",
        "        noisy_image = np.clip(noisy_image, 0, 1)\n",
        "        return noisy_image\n",
        "\n",
        "    def corrupt_image(self, image):\n",
        "        if self.noise == 'gaussian':\n",
        "            return self._add_gaussian_noise(image)\n",
        "        else:\n",
        "            raise ValueError('No such image corruption supported')\n",
        "\n",
        "    def __getitem__(self, index):\n",
        "        \"\"\"\n",
        "        Read a image, corrupt it and return it\n",
        "        \"\"\"\n",
        "        img_path = os.path.join(self.root_dir, self.imgs[index])\n",
        "        image = imageio.imread(img_path)  / (2**self.img_bitdepth - 1)\n",
        "\n",
        "        if self.crop_size > 0:\n",
        "            image_clean = self._random_crop_to_size(image)\n",
        "\n",
        "        image_noisy = self.corrupt_image(image_clean)\n",
        "        \n",
        "        # Conver to tensor\n",
        "        image_clean = torch.from_numpy(np.array(image_clean))\n",
        "        image_noisy = torch.from_numpy(np.array(image_noisy))\n",
        "\n",
        "        return image_noisy, image_clean"
      ],
      "execution_count": 71,
      "outputs": []
    },
    {
      "cell_type": "code",
      "metadata": {
        "id": "PCqxMbIrOBsT"
      },
      "source": [
        "# Declare training / testing datsets\n",
        "dataset_train = BSDDataset(root_train, crop_size=128, train_noise_model=('gaussian', 50), img_bitdepth=8)\n",
        "dataset_valid = BSDDataset(root_valid, crop_size=128, train_noise_model=('gaussian', 50), img_bitdepth=8)\n",
        "\n",
        "# Declare training / testing data loaders\n",
        "dloader_train = DataLoader(dataset_train, batch_size=1, shuffle=True)\n",
        "dloader_valid = DataLoader(dataset_valid, batch_size=1, shuffle=True)"
      ],
      "execution_count": 72,
      "outputs": []
    },
    {
      "cell_type": "code",
      "metadata": {
        "id": "iuYo-zm6OB1Q"
      },
      "source": [
        ""
      ],
      "execution_count": null,
      "outputs": []
    },
    {
      "cell_type": "code",
      "metadata": {
        "id": "oFwUXWTqCBxs"
      },
      "source": [
        ""
      ],
      "execution_count": null,
      "outputs": []
    },
    {
      "cell_type": "code",
      "metadata": {
        "id": "uM-McPnNWSJJ"
      },
      "source": [
        ""
      ],
      "execution_count": null,
      "outputs": []
    },
    {
      "cell_type": "code",
      "metadata": {
        "id": "1ud0HTIkWSU0"
      },
      "source": [
        ""
      ],
      "execution_count": null,
      "outputs": []
    },
    {
      "cell_type": "code",
      "metadata": {
        "id": "Pi_OYwSuWSXb"
      },
      "source": [
        ""
      ],
      "execution_count": null,
      "outputs": []
    },
    {
      "cell_type": "code",
      "metadata": {
        "id": "ZDnw8M2xWSaK"
      },
      "source": [
        ""
      ],
      "execution_count": null,
      "outputs": []
    },
    {
      "cell_type": "code",
      "metadata": {
        "id": "SKR_Mkr7WScr"
      },
      "source": [
        ""
      ],
      "execution_count": null,
      "outputs": []
    }
  ]
}