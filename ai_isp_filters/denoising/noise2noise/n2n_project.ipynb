{
  "nbformat": 4,
  "nbformat_minor": 0,
  "metadata": {
    "kernelspec": {
      "display_name": "Python 3",
      "language": "python",
      "name": "python3"
    },
    "language_info": {
      "codemirror_mode": {
        "name": "ipython",
        "version": 3
      },
      "file_extension": ".py",
      "mimetype": "text/x-python",
      "name": "python",
      "nbconvert_exporter": "python",
      "pygments_lexer": "ipython3",
      "version": "3.8.5"
    },
    "colab": {
      "name": "n2n_project.ipynb",
      "provenance": []
    }
  },
  "cells": [
    {
      "cell_type": "code",
      "metadata": {
        "colab": {
          "base_uri": "https://localhost:8080/"
        },
        "id": "mOVw9urhyXdD",
        "outputId": "2539d229-d234-4862-f312-71908d47f93e"
      },
      "source": [
        "!pip install torch torchvision"
      ],
      "execution_count": 3,
      "outputs": [
        {
          "output_type": "stream",
          "text": [
            "Requirement already satisfied: torch in /usr/local/lib/python3.7/dist-packages (1.8.1+cu101)\n",
            "Requirement already satisfied: torchvision in /usr/local/lib/python3.7/dist-packages (0.9.1+cu101)\n",
            "Requirement already satisfied: numpy in /usr/local/lib/python3.7/dist-packages (from torch) (1.19.5)\n",
            "Requirement already satisfied: typing-extensions in /usr/local/lib/python3.7/dist-packages (from torch) (3.7.4.3)\n",
            "Requirement already satisfied: pillow>=4.1.1 in /usr/local/lib/python3.7/dist-packages (from torchvision) (7.1.2)\n"
          ],
          "name": "stdout"
        }
      ]
    },
    {
      "cell_type": "code",
      "metadata": {
        "id": "1J0qw3KQz0JS"
      },
      "source": [
        "from math import log10\n",
        "from datetime import datetime\n",
        "from skimage.transform import resize\n",
        "import os, json, imageio, numpy as np\n",
        "\n",
        "import matplotlib.pyplot as plt\n",
        "from matplotlib.ticker import MaxNLocator\n",
        "\n",
        "from google.colab import drive\n",
        "%matplotlib inline"
      ],
      "execution_count": 4,
      "outputs": []
    },
    {
      "cell_type": "code",
      "metadata": {
        "id": "GSgIQYQM0Ey4"
      },
      "source": [
        "import torch\n",
        "import torch.nn as nn\n",
        "import torch.nn.functional as F\n",
        "from torch.optim import Adam, lr_scheduler\n",
        "import torchvision.transforms as transforms\n",
        "import torchvision.transforms.functional as tvF\n",
        "from torch.utils.data import Dataset, DataLoader"
      ],
      "execution_count": 5,
      "outputs": []
    },
    {
      "cell_type": "code",
      "metadata": {
        "id": "kwh93A8aOBjt"
      },
      "source": [
        "class BSDDataset(Dataset):\n",
        "    def __init__(self,\n",
        "                 root_dir,\n",
        "                 crop_size=64,\n",
        "                 noise_model='gaussian',\n",
        "                 noise_sigma=0.2,\n",
        "                 img_bitdepth=8,\n",
        "                 seed=None):\n",
        "        self.seed = seed\n",
        "        self.root_dir = root_dir\n",
        "        self.crop_size = crop_size\n",
        "        self.img_bitdepth = img_bitdepth\n",
        "        self.noise_model = noise_model\n",
        "        self.noise_sigma = noise_sigma\n",
        "        self.imgs = os.listdir(root_dir)\n",
        "\n",
        "        if self.seed:\n",
        "            np.random.seed(self.seed)\n",
        "      \n",
        "    def __len__(self):\n",
        "        return len(self.imgs)\n",
        "    \n",
        "    def _random_crop_to_size(self, img):\n",
        "        h, w, c = img.shape\n",
        "\n",
        "        if min(w, h) < self.crop_size:\n",
        "          img = resize(img, (self.crop_size, self.crop_size))\n",
        "\n",
        "        i = np.random.randint(0, h - self.crop_size)\n",
        "        j = np.random.randint(0, w - self.crop_size)\n",
        "\n",
        "        cropped_img = img[i:i+self.crop_size, j:j+self.crop_size, :]\n",
        "        return cropped_img\n",
        "    \n",
        "    def _add_gaussian_noise(self, image):\n",
        "        noisy_image = image + np.random.normal(0, self.noise_sigma, image.shape)\n",
        "        return np.clip(noisy_image, 0, 1)\n",
        "\n",
        "    def corrupt_image(self, image):\n",
        "        if self.noise_model == 'gaussian':\n",
        "            return self._add_gaussian_noise(image)\n",
        "        else:\n",
        "            raise ValueError('No such noise model.')\n",
        "\n",
        "    def __getitem__(self, index):\n",
        "        # Load image\n",
        "        img_path = os.path.join(self.root_dir, self.imgs[index])\n",
        "        image = imageio.imread(img_path) / (2**self.img_bitdepth - 1)\n",
        "\n",
        "        # Crop source image\n",
        "        if self.crop_size > 0:\n",
        "            image = self._random_crop_to_size(image)\n",
        "        \n",
        "        # Generate noisy images\n",
        "        image_noisy = self.corrupt_image(image)\n",
        "        image_target = self.corrupt_image(image)\n",
        "\n",
        "        # Transpose channels\n",
        "        image_target = np.array(image_target).transpose((2,0,1)) \n",
        "        image_noisy = np.array(image_noisy).transpose((2,0,1))\n",
        "\n",
        "        # Conver to tensor\n",
        "        image_target = torch.from_numpy(image_target).type(torch.DoubleTensor)\n",
        "        image_noisy = torch.from_numpy(image_noisy).type(torch.DoubleTensor)\n",
        "\n",
        "        return image_noisy, image_target"
      ],
      "execution_count": 6,
      "outputs": []
    },
    {
      "cell_type": "code",
      "metadata": {
        "id": "_h861lQyXWST"
      },
      "source": [
        "def conv_block(in_channels, out_channels):\n",
        "    return nn.Sequential(nn.Conv2d(in_channels, out_channels, 3, padding=1),\n",
        "                         nn.ReLU(inplace=True),\n",
        "                         nn.Conv2d(out_channels, out_channels, 3, padding=1),\n",
        "                         nn.ReLU(inplace=True))   \n",
        "\n",
        "class Denoiser(nn.Module):\n",
        "    def __init__(self):\n",
        "        super().__init__()\n",
        "                \n",
        "        self.encode_1 = conv_block(3, 64)\n",
        "        self.encode_2 = conv_block(64, 128)\n",
        "        self.encode_3 = conv_block(128, 256)\n",
        "        self.encode_4 = conv_block(256, 512)        \n",
        "\n",
        "        self.maxpool = nn.MaxPool2d(2)\n",
        "        self.upsample = nn.Upsample(scale_factor=2,\n",
        "                                    mode='bilinear',\n",
        "                                    align_corners=True)        \n",
        "        \n",
        "        self.decode_3 = conv_block(256 + 512, 256)\n",
        "        self.decode_2 = conv_block(128 + 256, 128)\n",
        "        self.decode_1 = conv_block(128 + 64, 64)\n",
        "        self.conv_last = nn.Conv2d(64, 3, 1)\n",
        "        \n",
        "    def forward(self, input_image):\n",
        "        conv1 = self.encode_1(input_image)\n",
        "        x = self.maxpool(conv1)\n",
        "\n",
        "        conv2 = self.encode_2(x)\n",
        "        x = self.maxpool(conv2)\n",
        "        \n",
        "        conv3 = self.encode_3(x)\n",
        "        x = self.maxpool(conv3)   \n",
        "        \n",
        "        x = self.encode_4(x)\n",
        "        \n",
        "        x = self.upsample(x)        \n",
        "        x = torch.cat([x, conv3], dim=1)\n",
        "        \n",
        "        x = self.decode_3(x)\n",
        "        x = self.upsample(x)        \n",
        "        x = torch.cat([x, conv2], dim=1)       \n",
        "\n",
        "        x = self.decode_2(x)\n",
        "        x = self.upsample(x)        \n",
        "        x = torch.cat([x, conv1], dim=1)   \n",
        "        \n",
        "        x = self.decode_1(x)\n",
        "        \n",
        "        noise = self.conv_last(x)\n",
        "        \n",
        "        return input_image + noise"
      ],
      "execution_count": 7,
      "outputs": []
    },
    {
      "cell_type": "markdown",
      "metadata": {
        "id": "-XF3FmVGc-v1"
      },
      "source": [
        "***\n",
        "# Utility functions"
      ]
    },
    {
      "cell_type": "code",
      "metadata": {
        "id": "j6zCzt9Kc-EB"
      },
      "source": [
        "def clear_line():\n",
        "    \"\"\"Clears line from any characters.\"\"\"\n",
        "    print('\\r{}'.format(' ' * 80), end='\\r')\n",
        "\n",
        "def progress_bar(batch_idx, num_batches, report_interval, train_loss):\n",
        "    \"\"\"Neat progress bar to track training.\"\"\"\n",
        "    dec = int(np.ceil(np.log10(num_batches)))\n",
        "    bar_size = 21 + dec\n",
        "    progress = (batch_idx % report_interval) / report_interval\n",
        "    fill = int(progress * bar_size) + 1\n",
        "    print('\\rBatch {:>{dec}d} [{}{}] Train loss: {:>1.5f}'.format(batch_idx + 1, '=' * fill + '>', ' ' * (bar_size - fill), train_loss, dec=str(dec)), end='')\n",
        "\n",
        "def show_on_epoch_end(epoch_time, valid_time, valid_loss, valid_psnr):\n",
        "    clear_line()\n",
        "    print('Train time: {} | Valid time: {} | Valid loss: {:>1.5f} | Avg PSNR: {:.2f} dB'.format(epoch_time, valid_time, valid_loss, valid_psnr))\n",
        "\n",
        "def psnr(input, target):\n",
        "    return 10 * torch.log10(1 / F.mse_loss(input, target))\n",
        "  \n",
        "def time_elapsed_since(start):\n",
        "    # Computes elapsed time since start.\n",
        "    timedelta = datetime.now() - start\n",
        "    string = str(timedelta)[:-7]\n",
        "    ms = int(timedelta.total_seconds() * 1000)\n",
        "    return string, ms\n",
        "  \n",
        "def show_on_report(batch_idx, num_batches, loss, elapsed):\n",
        "    clear_line()\n",
        "    dec = int(np.ceil(np.log10(num_batches)))\n",
        "    print('Batch {:>{dec}d} / {:d} | Avg loss: {:>1.5f} | Avg train time / batch: {:d} ms'.format(batch_idx + 1, num_batches, loss, int(elapsed), dec=dec))"
      ],
      "execution_count": 37,
      "outputs": []
    },
    {
      "cell_type": "code",
      "metadata": {
        "id": "yVTFEDoKdLi1"
      },
      "source": [
        "class AvgMeter(object):\n",
        "    def __init__(self):\n",
        "        self.reset()\n",
        "\n",
        "    def reset(self):\n",
        "        self.val = 0\n",
        "        self.avg = 0.\n",
        "        self.sum = 0\n",
        "        self.count = 0\n",
        "\n",
        "    def update(self, val, n=1):\n",
        "        self.val = val\n",
        "        self.sum += val * n\n",
        "        self.count += n\n",
        "        self.avg = self.sum / self.count"
      ],
      "execution_count": 28,
      "outputs": []
    },
    {
      "cell_type": "markdown",
      "metadata": {
        "id": "qRdgcVglZuEe"
      },
      "source": [
        "***\n",
        "# Train the model"
      ]
    },
    {
      "cell_type": "code",
      "metadata": {
        "colab": {
          "base_uri": "https://localhost:8080/"
        },
        "id": "VyB_19bGZtqQ",
        "outputId": "390121d3-9927-42de-8064-1d94ea86e7d9"
      },
      "source": [
        "# Mount GDrive with dataset\n",
        "drive.mount(\"/content/drive\", force_remount=True)"
      ],
      "execution_count": 29,
      "outputs": [
        {
          "output_type": "stream",
          "text": [
            "Mounted at /content/drive\n"
          ],
          "name": "stdout"
        }
      ]
    },
    {
      "cell_type": "code",
      "metadata": {
        "id": "2t6wVRO3aHV4"
      },
      "source": [
        "class Params:\n",
        "  def __init__(self):\n",
        "    self.train_dir = '/content/drive/My Drive/Colab Notebooks/Data/BSDS500/train/'\n",
        "    self.valid_dir = '/content/drive/My Drive/Colab Notebooks/Data/BSDS500/val/'\n",
        "    self.result_dir = '/content/drive/My Drive/Colab Notebooks/Data/BSDS500/result/'\n",
        "    self.ckpt_save_path = '/content/drive/My Drive/Colab Notebooks'\n",
        "    self.nb_epochs = 10\n",
        "    self.batch_size = 4\n",
        "    self.learning_rate = 0.001\n",
        "    self.loss = 'l2'\n",
        "    self.noise_model = 'gaussian'\n",
        "    self.noise_sigma = 50\n",
        "    self.crop_size = 64\n",
        "    self.report_interval = 4\n",
        "    self.plot_stats = True\n",
        "    self.seed = 57\n",
        "    self.image_bitdepth = 8\n",
        "\n",
        "    # Explore images\n",
        "    print('Train images: ', len(os.listdir(self.train_dir)))\n",
        "    print('Valid images: ', len(os.listdir(self.valid_dir)))"
      ],
      "execution_count": 30,
      "outputs": []
    },
    {
      "cell_type": "code",
      "metadata": {
        "id": "48Y0nZqMSLKX"
      },
      "source": [
        "def get_loaders(params):\n",
        "    # Declare training / testing datsets\n",
        "    dataset_train = BSDDataset(params.train_dir,\n",
        "                               crop_size=params.crop_size,\n",
        "                               noise_model=params.noise_model,\n",
        "                               noise_sigma=params.noise_sigma)\n",
        "\n",
        "    dataset_valid = BSDDataset(params.valid_dir,\n",
        "                               crop_size=params.crop_size,\n",
        "                               noise_model=params.noise_model,\n",
        "                               noise_sigma=params.noise_sigma)\n",
        "\n",
        "    # Declare training / testing data loaders\n",
        "    train_loader = DataLoader(dataset_train, batch_size=params.batch_size, shuffle=True)\n",
        "    valid_loader = DataLoader(dataset_valid, batch_size=params.batch_size, shuffle=True)\n",
        "    return train_loader, valid_loader"
      ],
      "execution_count": 31,
      "outputs": []
    },
    {
      "cell_type": "code",
      "metadata": {
        "id": "dF41MeJuQqEb"
      },
      "source": [
        "def train_model(model, criterion, optim, train_loader, valid_loader, params):\n",
        "    \n",
        "    num_batches = len(train_loader)\n",
        "\n",
        "    # Dictionaries of tracked stats\n",
        "    stats = {'train_loss': [],\n",
        "             'valid_loss': [],\n",
        "             'valid_psnr': []}\n",
        "\n",
        "    # Main training loop\n",
        "    for epoch in range(params.nb_epochs):\n",
        "        print('Epoch {:d} / {:d}'.format(epoch + 1, params.nb_epochs))\n",
        "\n",
        "        model.train()\n",
        "        # Init stat meters\n",
        "        loss_meter = AvgMeter()\n",
        "        time_meter = AvgMeter()\n",
        "        train_loss_meter = AvgMeter()\n",
        "\n",
        "        # Train on batches\n",
        "        for batch_idx, (inputs, targets) in enumerate(train_loader):\n",
        "            batch_start = datetime.now()\n",
        "            progress_bar(batch_idx, num_batches, params.report_interval, loss_meter.val)\n",
        "\n",
        "            # Denoise image\n",
        "            results = model(inputs)\n",
        "            loss = criterion(results, targets)\n",
        "            loss_meter.update(loss.item())\n",
        "\n",
        "            # Zero gradients, perform a backward pass, and update the weights\n",
        "            optim.zero_grad()\n",
        "            loss.backward()\n",
        "            optim.step()\n",
        "\n",
        "            # Report/update statistics\n",
        "            time_meter.update(time_elapsed_since(batch_start)[1])\n",
        "            if (batch_idx + 1) % params.report_interval == 0 and batch_idx:\n",
        "                show_on_report(batch_idx, num_batches, loss_meter.avg, time_meter.avg)\n",
        "                train_loss_meter.update(loss_meter.avg)\n",
        "                loss_meter.reset()\n",
        "                time_meter.reset()\n",
        "\n",
        "        # Epoch end, save and reset tracker\n",
        "        # self._on_epoch_end(stats, train_loss_meter.avg, epoch, epoch_start, valid_loader)\n",
        "        train_loss_meter.reset()\n",
        "\n",
        "        # Validation loop\n",
        "        model.eval()\n",
        "\n",
        "        valid_start = datetime.now()\n",
        "        loss_meter = AvgMeter()\n",
        "        psnr_meter = AvgMeter()\n",
        "\n",
        "        for batch_idx, (inputs, targets) in enumerate(valid_loader):\n",
        "            # Denoise\n",
        "            results = model(inputs)\n",
        "\n",
        "            # Update loss\n",
        "            loss = self.loss(results, targets)\n",
        "            loss_meter.update(loss.item())\n",
        "\n",
        "            # Compute PSRN\n",
        "            images_in_batch = results.shape[0]\n",
        "            for i in range(images_in_batch):\n",
        "                results = results.cpu()\n",
        "                targets = targets.cpu()\n",
        "                psnr_meter.update(psnr(results[i], targets[i]).item())\n",
        "\n",
        "        valid_loss = loss_meter.avg\n",
        "        valid_time = time_elapsed_since(valid_start)[0]\n",
        "        psnr_avg = psnr_meter.avg\n",
        "        show_on_epoch_end(epoch_time, valid_time, valid_loss, valid_psnr)\n",
        "        \n",
        "        return stats"
      ],
      "execution_count": 32,
      "outputs": []
    },
    {
      "cell_type": "code",
      "metadata": {
        "id": "dth5bYtCeI09"
      },
      "source": [
        "def test(model, test_loader, show, params):\n",
        "    model.eval()\n",
        "\n",
        "    noisy_imgs = []\n",
        "    clean_imgs = []\n",
        "    denoised_imgs = []\n",
        "\n",
        "    # Create directory for denoised images\n",
        "    save_path = os.path.join(params.result_dir, 'denoised')\n",
        "    if not os.path.isdir(save_path):\n",
        "        os.mkdir(save_path)\n",
        "\n",
        "    for batch_idx, (inputs, targets) in enumerate(test_loader):\n",
        "        # Only do first <show> images\n",
        "        if show == 0 or batch_idx >= show:\n",
        "            break\n",
        "\n",
        "        source_imgs.append(inputs)\n",
        "        clean_imgs.append(targets)\n",
        "\n",
        "        # Denoise\n",
        "        denoised_img = model(source).detach()\n",
        "        denoised_imgs.append(denoised_img)\n",
        "\n",
        "    # Squeeze tensors\n",
        "    source_imgs = [t.squeeze(0) for t in source_imgs]\n",
        "    denoised_imgs = [t.squeeze(0) for t in denoised_imgs]\n",
        "    clean_imgs = [t.squeeze(0) for t in clean_imgs]\n",
        "\n",
        "    # Save images\n",
        "    print('Saving images and montages to: {}'.format(save_path))\n",
        "    for i in range(len(source_imgs)):\n",
        "        img_name = test_loader.dataset.imgs[i]\n",
        "        imageio.imsave()\n"
      ],
      "execution_count": 33,
      "outputs": []
    },
    {
      "cell_type": "code",
      "metadata": {
        "id": "nszZDpa_QqJM",
        "colab": {
          "base_uri": "https://localhost:8080/"
        },
        "outputId": "28785113-8447-42c1-d16e-15f30c09544f"
      },
      "source": [
        "params = Params()\n",
        "\n",
        "model = Denoiser().double()\n",
        "optim = Adam(model.parameters(), lr=params.learning_rate)\n",
        "criterion = nn.MSELoss()"
      ],
      "execution_count": 34,
      "outputs": [
        {
          "output_type": "stream",
          "text": [
            "Train images:  400\n",
            "Valid images:  100\n"
          ],
          "name": "stdout"
        }
      ]
    },
    {
      "cell_type": "code",
      "metadata": {
        "id": "OVURH3SdYUl1"
      },
      "source": [
        "train_loader, valid_loader = get_loaders(params)"
      ],
      "execution_count": 35,
      "outputs": []
    },
    {
      "cell_type": "code",
      "metadata": {
        "colab": {
          "base_uri": "https://localhost:8080/"
        },
        "id": "_lHO0-biYUpG",
        "outputId": "667a4e55-95a6-445f-8601-1a20bfe6dde8"
      },
      "source": [
        "train_model(model, criterion, optim, train_loader, valid_loader, params)"
      ],
      "execution_count": null,
      "outputs": [
        {
          "output_type": "stream",
          "text": [
            "Epoch 1 / 10\n",
            "Batch  4 / 100 | Avg loss: 0.50043 | Avg train time / batch: 3163 ms\n",
            "Batch  5 [=>                      ] Train loss: 0.00000"
          ],
          "name": "stdout"
        }
      ]
    },
    {
      "cell_type": "code",
      "metadata": {
        "id": "kp3Wx4hqYUsd"
      },
      "source": [
        ""
      ],
      "execution_count": null,
      "outputs": []
    },
    {
      "cell_type": "code",
      "metadata": {
        "id": "WE-vgAwbYUv_"
      },
      "source": [
        ""
      ],
      "execution_count": null,
      "outputs": []
    },
    {
      "cell_type": "code",
      "metadata": {
        "id": "1Nm0qiYMYUzw"
      },
      "source": [
        ""
      ],
      "execution_count": null,
      "outputs": []
    }
  ]
}